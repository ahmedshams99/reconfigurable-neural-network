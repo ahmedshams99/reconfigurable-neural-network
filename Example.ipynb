{
 "cells": [
  {
   "cell_type": "code",
   "execution_count": null,
   "metadata": {},
   "outputs": [],
   "source": [
    "\n",
    "from keras.models import Sequential, Model, load_model, clone_model\n",
    "from keras.layers import Conv2D, MaxPooling2D, BatchNormalization, Dropout, Flatten, Dense, GlobalMaxPooling2D, Activation\n",
    "from keras import Input, regularizers\n",
    "from ModelConfigCreator import ModelConfigCreator"
   ]
  },
  {
   "cell_type": "code",
   "execution_count": null,
   "metadata": {},
   "outputs": [],
   "source": [
    "# Given some model named model\n",
    "model = load_model('model.h5')\n",
    "# And some training data\n",
    "X_train = []\n",
    "y_train = []\n",
    "# And some testing data\n",
    "X_test = []\n",
    "y_test = []"
   ]
  },
  {
   "cell_type": "code",
   "execution_count": null,
   "metadata": {},
   "outputs": [],
   "source": [
    "\"\"\"Training the Configuration\"\"\"\n",
    "\n",
    "#Creating a dictionary for the layers that need to be added\n",
    "layersDict = dict({10: Conv2D(256, 3, activation='relu',padding='same'),\n",
    "                   11: BatchNormalization(),\n",
    "                   12: MaxPooling2D(),\n",
    "                   13: Conv2D(512, 3, activation='relu',padding='same'),\n",
    "                   14: BatchNormalization(),\n",
    "})\n",
    "#Initialize ModelConfigCreator with model name and config name\n",
    "myConfigName = ModelConfigCreator('myModelName', 'myConfigName')\n",
    "#createModel given original model, list of layers to be removed, and dict of layers to be added\n",
    "myConfigName.createModel(model, list(range(10,20)), layersDict)\n",
    "#Compile the configuration\n",
    "myConfigName.model.compile(optimizer='adam', loss='categorical_crossentropy', metrics=['accuracy'])\n",
    "#Train the configuration\n",
    "historyMyConfigName = myConfigName.model.fit(X_train, y_train, epochs=100, validation_split=.1)\n",
    "#Evaluate the configuration\n",
    "myConfigName.model.evaluate(X_test,y_test)"
   ]
  },
  {
   "cell_type": "code",
   "execution_count": null,
   "metadata": {},
   "outputs": [],
   "source": [
    "\"\"\"Loading the Configuraiton\"\"\"\n",
    "from ModelConfigurationLoader import ModelConfigurationLoader\n",
    "#Load the initial model\n",
    "model = load_model('model.h5')\n",
    "#Initialize ModelConfigurationLoader with model name\n",
    "loader = ModelConfigurationLoader('myModelName')\n",
    "#Call loadConfig with configuration name and initial model\n",
    "myConfig = loader.loadConfig('myConfigName', model)"
   ]
  }
 ],
 "metadata": {
  "kernelspec": {
   "display_name": "Python 3.7.3 64-bit",
   "language": "python",
   "name": "python3"
  },
  "language_info": {
   "name": "python",
   "version": "3.7.3"
  },
  "orig_nbformat": 4,
  "vscode": {
   "interpreter": {
    "hash": "0429c1427cf2302b3c00dfb6fd0099d9c3d7b7c7d7cfc108b9e4b1b9d7834595"
   }
  }
 },
 "nbformat": 4,
 "nbformat_minor": 2
}
